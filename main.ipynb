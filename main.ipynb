{
 "cells": [
  {
   "cell_type": "code",
   "execution_count": null,
   "metadata": {},
   "outputs": [],
   "source": [
    "import json\n",
    "import urllib.request\n",
    "\n",
    "\n",
    "def handler(request):\n",
    "    defaults.device = torch.device('cpu')\n",
    "    #Here we download the model from the URL given in the model GET parameter and store it into /tmp folder\n",
    "    model = request.args['model']\n",
    "    urllib.request.urlretrieve(model, '/tmp/model.pkl')\n",
    "    path = Path('/tmp')\n",
    "    learner = load_learner(path, 'model.pkl')\n",
    "\n",
    "    #Here we download the image from the URL given in the image GET parameter and store it into /tmp folder\n",
    "    image = request.args['image']\n",
    "    urllib.request.urlretrieve(image, '/tmp/image.jpg')\n",
    "\n",
    "    #Load up the image and try to classify it\n",
    "    img = open_image('/tmp/image.jpg')\n",
    "    pred_class,pred_idx,outputs = learner.predict(img)\n",
    "\n",
    "    #Sort the classification classes from highest score to lowest, then return the response as JSON\n",
    "    return json.dumps({\n",
    "        \"predictions\": sorted(\n",
    "            zip(learner.data.classes, map(float, outputs)),\n",
    "            key=lambda p: p[1],\n",
    "            reverse=True\n",
    "        )\n",
    "    })"
   ]
  }
 ],
 "metadata": {
  "kernelspec": {
   "display_name": "Python 3",
   "language": "python",
   "name": "python3"
  },
  "language_info": {
   "codemirror_mode": {
    "name": "ipython",
    "version": 3
   },
   "file_extension": ".py",
   "mimetype": "text/x-python",
   "name": "python",
   "nbconvert_exporter": "python",
   "pygments_lexer": "ipython3",
   "version": "3.6.8"
  }
 },
 "nbformat": 4,
 "nbformat_minor": 2
}
